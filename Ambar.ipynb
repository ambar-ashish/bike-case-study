{
 "cells": [
  {
   "cell_type": "markdown",
   "id": "ef29c532",
   "metadata": {},
   "source": [
    "# Bike Case Study\n",
    "\n",
    "asfasfasf"
   ]
  },
  {
   "cell_type": "markdown",
   "id": "158c34d4",
   "metadata": {},
   "source": [
    "## Introduction\n",
    "adfasdfas\n",
    "\n",
    "## Goal\n",
    "afafas"
   ]
  },
  {
   "cell_type": "code",
   "execution_count": null,
   "id": "4a3d8c64",
   "metadata": {},
   "outputs": [],
   "source": [
    "import pandas as pd \n",
    "import numpy as np \n",
    "import matplotlib.pyplot as plt \n",
    "import seaborn as sns\n",
    "sns.set_palette('muted')\n",
    "import warnings\n",
    "warnings.filterwarnings('ignore')"
   ]
  },
  {
   "cell_type": "code",
   "execution_count": null,
   "id": "ca4db4c3",
   "metadata": {},
   "outputs": [],
   "source": [
    "# set the max columns to none to see all the columns & rows in dataset\n",
    "\n",
    "pd.set_option('display.max_columns', None)\n",
    "pd.set_option('display.max_rows', None)"
   ]
  },
  {
   "cell_type": "code",
   "execution_count": null,
   "id": "233cbeae",
   "metadata": {},
   "outputs": [],
   "source": [
    "bike_original = pd.read_csv(\"day.csv\")\n",
    "bike_original.head()"
   ]
  },
  {
   "cell_type": "code",
   "execution_count": null,
   "id": "64abb52a",
   "metadata": {},
   "outputs": [],
   "source": [
    "bike_original.shape"
   ]
  },
  {
   "cell_type": "code",
   "execution_count": null,
   "id": "e3459adb",
   "metadata": {},
   "outputs": [],
   "source": [
    "bike_original.info()"
   ]
  },
  {
   "cell_type": "code",
   "execution_count": null,
   "id": "e681135b",
   "metadata": {},
   "outputs": [],
   "source": [
    "bike_original.describe()"
   ]
  },
  {
   "cell_type": "code",
   "execution_count": null,
   "id": "06f4001e",
   "metadata": {},
   "outputs": [],
   "source": [
    "# check for null values in rows\n",
    "\n",
    "# check for null values in columns\n",
    "\n",
    "bike_original.isnull().sum()"
   ]
  },
  {
   "cell_type": "code",
   "execution_count": null,
   "id": "20060c0e",
   "metadata": {},
   "outputs": [],
   "source": [
    "# duplicate data check"
   ]
  },
  {
   "cell_type": "code",
   "execution_count": null,
   "id": "e0019eba",
   "metadata": {},
   "outputs": [],
   "source": [
    "bike = bike_original.copy()\n",
    "bike.head()"
   ]
  },
  {
   "cell_type": "code",
   "execution_count": null,
   "id": "ea90a020",
   "metadata": {},
   "outputs": [],
   "source": [
    "# delete unnecessary columns which are not required for analysis\n",
    "# instant, dteday, casual and registered\n",
    "\n",
    "bike.drop(['instant','dteday','casual','registered'],axis=1,inplace=True)\n",
    "bike.head()"
   ]
  },
  {
   "cell_type": "code",
   "execution_count": null,
   "id": "23960b41",
   "metadata": {},
   "outputs": [],
   "source": [
    "# Update values for some of the enumerated data types for analysis and readability\n",
    "\n",
    "bike.season = bike.season.map({1:'spring',2:'summer',3:'fall',4:'winter'})\n",
    "\n",
    "# map year ??\n",
    "\n",
    "bike.weekday = bike.weekday.map({0:'sun',1:'mon',2:'tue',3:'wed',4:'thu',5:'fri',6:'sat'})\n",
    "\n",
    "bike.mnth = bike.mnth.map({1:'jan',2:'feb',3:'mar',4:'apr',5:'may',6:'june',7:'july',8:'aug',9:'sep',10:'oct',11:'nov',12:'dec'})\n",
    "\n",
    "bike.weathersit = bike.weathersit.map({1:'clear',2:'mist',3:'light_snow_rain',4:'heavy_snow_rain'})\n",
    "\n",
    "bike.head(10)\n"
   ]
  },
  {
   "cell_type": "code",
   "execution_count": null,
   "id": "f87b38c4",
   "metadata": {},
   "outputs": [],
   "source": [
    "# Univariate Analysis\n",
    "# Bivariate Analysis\n",
    "# Visualization\n",
    "\n",
    "bike.nunique()"
   ]
  },
  {
   "cell_type": "code",
   "execution_count": null,
   "id": "21a50a44",
   "metadata": {},
   "outputs": [],
   "source": [
    "num_cols=[\"temp\", \"atemp\", \"hum\", \"windspeed\", \"cnt\"]\n",
    "\n",
    "cat_cols=[\"season\", \"yr\", \"mnth\", \"holiday\", \"weekday\", \"workingday\", \"weathersit\"]"
   ]
  },
  {
   "cell_type": "markdown",
   "id": "12f8cce3",
   "metadata": {},
   "source": [
    "## EDA"
   ]
  },
  {
   "cell_type": "markdown",
   "id": "ad2f797c",
   "metadata": {},
   "source": [
    "## Univariate Analysis"
   ]
  },
  {
   "cell_type": "code",
   "execution_count": null,
   "id": "e05e76c7",
   "metadata": {},
   "outputs": [],
   "source": [
    "for i in num_cols:\n",
    "    sns.histplot(x=bike[i])\n",
    "    plt.show()"
   ]
  },
  {
   "cell_type": "code",
   "execution_count": null,
   "id": "501d8721",
   "metadata": {},
   "outputs": [],
   "source": [
    "for i in cat_cols:\n",
    "    sns.countplot(x=bike[i])\n",
    "    plt.show()"
   ]
  },
  {
   "cell_type": "markdown",
   "id": "a52d23d6",
   "metadata": {},
   "source": [
    "## Bivariate Analysis"
   ]
  },
  {
   "cell_type": "code",
   "execution_count": null,
   "id": "e062c79c",
   "metadata": {},
   "outputs": [],
   "source": [
    "for i in num_cols:\n",
    "    sns.scatterplot(x=bike[i], y=bike[\"cnt\"])\n",
    "    plt.show()"
   ]
  },
  {
   "cell_type": "code",
   "execution_count": null,
   "id": "d453c57e",
   "metadata": {},
   "outputs": [],
   "source": [
    "for i in cat_cols:\n",
    "    sns.boxplot(x=bike[i], y=bike[\"cnt\"])\n",
    "    plt.show()"
   ]
  },
  {
   "cell_type": "markdown",
   "id": "64aa85fa",
   "metadata": {},
   "source": [
    "## Pre-processing step"
   ]
  },
  {
   "cell_type": "markdown",
   "id": "1e7afed3",
   "metadata": {},
   "source": [
    "### Dummy Variable creation (One Hot Encoding) "
   ]
  },
  {
   "cell_type": "code",
   "execution_count": null,
   "id": "183ec06b",
   "metadata": {},
   "outputs": [],
   "source": [
    "bike[cat_cols].nunique # only for non binary categorical columns"
   ]
  },
  {
   "cell_type": "code",
   "execution_count": null,
   "id": "9caeba31",
   "metadata": {},
   "outputs": [],
   "source": []
  }
 ],
 "metadata": {
  "kernelspec": {
   "display_name": "Python 3 (ipykernel)",
   "language": "python",
   "name": "python3"
  },
  "language_info": {
   "codemirror_mode": {
    "name": "ipython",
    "version": 3
   },
   "file_extension": ".py",
   "mimetype": "text/x-python",
   "name": "python",
   "nbconvert_exporter": "python",
   "pygments_lexer": "ipython3",
   "version": "3.11.5"
  }
 },
 "nbformat": 4,
 "nbformat_minor": 5
}
